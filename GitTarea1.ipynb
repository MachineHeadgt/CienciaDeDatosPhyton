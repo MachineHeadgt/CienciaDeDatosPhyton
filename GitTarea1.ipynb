{
 "cells": [
  {
   "cell_type": "markdown",
   "metadata": {},
   "source": [
    "Version Control GIT\n",
    "\n",
    "Version control is an usefull tool that helps several peopole to work on one project avoiding the common issues of doing so it gets a team organized and keeps a clean work. \n",
    "\n",
    "In development some of this issues are. \n",
    "\n",
    "    - code loss \n",
    "    - code overwrite \n",
    "    - have an outdated code  \n",
    "    - unable to work serverla changes at the same time \n",
    "    - untrakable changes \n",
    "\n",
    "there are serveral version cotrol tools can be use now like \n",
    "\n",
    "    GIT \n",
    "    SVN \n",
    "    TFS\n",
    "    SafeSource\n",
    "    \n",
    "In this class we checked on GIT that is an Open source tool that is currenlty used a lot by software developers teams, I just started to work with GIT on my work integrated to sharepoint and GITFLow for Visual studio and I think is great and better than TFS, I believe is easier to work with, how it manages the code and the way of handeling the branches is better. \n",
    "\n",
    "I believe GIT is better with an interface because it works thru command lines than can be complicated to momerize some of this GIT inteface are \n",
    "\n",
    "    GITHub \n",
    "    GITFlow \n",
    "    GITLab \n",
    "    SharePoint\n",
    "    \n",
    "\n",
    "the cicle that we do at work is follow. \n",
    "\n",
    "    -Create a featurebranch from Production repository. \n",
    "    -Modify and do all work \n",
    "    -commit feature branch to STG repository \n",
    "    -Do all QA \n",
    "    -Commit feature brach to Production \n",
    "    -Deploy \n",
    "    \n",
    "looking at the class the way to go work thru the console it gets kind of complicated and seesm not follow above cicle I didin't see anything about feature branches. it works more on directs commits and branches to the files that is probably because more of the work class in a local repository an its not working on a remote one.\n",
    "\n",
    "\n",
    "\n",
    "\n",
    "\n",
    "\n",
    "    "
   ]
  }
 ],
 "metadata": {
  "kernelspec": {
   "display_name": "Python 3",
   "language": "python",
   "name": "python3"
  },
  "language_info": {
   "codemirror_mode": {
    "name": "ipython",
    "version": 3
   },
   "file_extension": ".py",
   "mimetype": "text/x-python",
   "name": "python",
   "nbconvert_exporter": "python",
   "pygments_lexer": "ipython3",
   "version": "3.8.1"
  }
 },
 "nbformat": 4,
 "nbformat_minor": 4
}
